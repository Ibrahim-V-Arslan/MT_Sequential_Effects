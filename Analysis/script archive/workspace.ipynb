{
 "cells": [
  {
   "cell_type": "code",
   "execution_count": 3,
   "id": "feb951ae-8677-4924-ba01-68b509285e8e",
   "metadata": {},
   "outputs": [],
   "source": [
    "import pandas as pd\n",
    "import math\n",
    "import statistics\n",
    "\n",
    "df = pd.read_json(r\"C:\\Users\\veoni\\Documents\\GitHub\\MTE_DLAB\\Squircle experiment\\DF_clean.json\")"
   ]
  },
  {
   "cell_type": "code",
   "execution_count": 5,
   "id": "f9cf4fb5-0079-4b6d-82ae-a385a4024f7d",
   "metadata": {},
   "outputs": [],
   "source": [
    "original_traj = []\n",
    "resampled_traj = []\n",
    "\n",
    "for i in range(len(df)):\n",
    "    original_traj.append(len(df['traj_record'].iloc[i]))\n",
    "    resampled_traj.append(len(df['downsampled_traj'].iloc[i]))\n",
    "orig_avg = statistics.mean(original_traj)\n",
    "downsampled_avg = statistics.mean(resampled_traj)\n",
    "\n",
    "    "
   ]
  },
  {
   "cell_type": "code",
   "execution_count": 6,
   "id": "ec318e37-e2a8-46e8-adb1-1e452512f7ae",
   "metadata": {},
   "outputs": [
    {
     "data": {
      "text/plain": [
       "542.5055875380968"
      ]
     },
     "execution_count": 6,
     "metadata": {},
     "output_type": "execute_result"
    }
   ],
   "source": [
    "orig_avg"
   ]
  },
  {
   "cell_type": "code",
   "execution_count": 7,
   "id": "16d0a968-6577-482a-9413-63328b03a4f7",
   "metadata": {},
   "outputs": [
    {
     "data": {
      "text/plain": [
       "48.392256462354666"
      ]
     },
     "execution_count": 7,
     "metadata": {},
     "output_type": "execute_result"
    }
   ],
   "source": [
    "downsampled_avg"
   ]
  }
 ],
 "metadata": {
  "kernelspec": {
   "display_name": "Python 3 (ipykernel)",
   "language": "python",
   "name": "python3"
  },
  "language_info": {
   "codemirror_mode": {
    "name": "ipython",
    "version": 3
   },
   "file_extension": ".py",
   "mimetype": "text/x-python",
   "name": "python",
   "nbconvert_exporter": "python",
   "pygments_lexer": "ipython3",
   "version": "3.10.13"
  }
 },
 "nbformat": 4,
 "nbformat_minor": 5
}
