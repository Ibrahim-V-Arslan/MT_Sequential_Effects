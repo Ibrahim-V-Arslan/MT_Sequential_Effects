{
 "cells": [
  {
   "cell_type": "markdown",
   "metadata": {},
   "source": [
    "## Necessary Packages"
   ]
  },
  {
   "cell_type": "code",
   "execution_count": 2,
   "metadata": {
    "vscode": {
     "languageId": "r"
    }
   },
   "outputs": [
    {
     "name": "stderr",
     "output_type": "stream",
     "text": [
      "Loading required package: Matrix\n",
      "\n"
     ]
    },
    {
     "name": "stderr",
     "output_type": "stream",
     "text": [
      "Loading required package: carData\n",
      "\n",
      "Warning message:\n",
      "\"package 'effects' was built under R version 4.3.3\"\n",
      "lattice theme set by effectsTheme()\n",
      "See ?effectsTheme for details.\n",
      "\n"
     ]
    }
   ],
   "source": [
    "library(lme4)\n",
    "library(car)\n",
    "library(effects)\n",
    "# load data\n",
    "data <- read.csv(\"tokyo_driftV2.csv\")\n",
    "data$resp = as.factor(data$resp)"
   ]
  },
  {
   "cell_type": "markdown",
   "metadata": {},
   "source": [
    "## 1st Model"
   ]
  },
  {
   "cell_type": "code",
   "execution_count": 2,
   "metadata": {
    "vscode": {
     "languageId": "r"
    }
   },
   "outputs": [
    {
     "data": {
      "text/html": [
       "<style>\n",
       ".dl-inline {width: auto; margin:0; padding: 0}\n",
       ".dl-inline>dt, .dl-inline>dd {float: none; width: auto; display: inline-block}\n",
       ".dl-inline>dt::after {content: \":\\0020\"; padding-right: .5ex}\n",
       ".dl-inline>dt:not(:first-of-type) {padding-left: .5ex}\n",
       "</style><dl class=dl-inline><dt>evidence</dt><dd>1.00290600403329</dd><dt>prev_evidence</dt><dd>1.35677400800286</dd><dt>prev_resp</dt><dd>1.3576078541203</dd></dl>\n"
      ],
      "text/latex": [
       "\\begin{description*}\n",
       "\\item[evidence] 1.00290600403329\n",
       "\\item[prev\\textbackslash{}\\_evidence] 1.35677400800286\n",
       "\\item[prev\\textbackslash{}\\_resp] 1.3576078541203\n",
       "\\end{description*}\n"
      ],
      "text/markdown": [
       "evidence\n",
       ":   1.00290600403329prev_evidence\n",
       ":   1.35677400800286prev_resp\n",
       ":   1.3576078541203\n",
       "\n"
      ],
      "text/plain": [
       "     evidence prev_evidence     prev_resp \n",
       "     1.002906      1.356774      1.357608 "
      ]
     },
     "metadata": {},
     "output_type": "display_data"
    },
    {
     "data": {
      "text/plain": [
       "Generalized linear mixed model fit by maximum likelihood (Laplace\n",
       "  Approximation) [glmerMod]\n",
       " Family: binomial  ( logit )\n",
       "Formula: resp ~ evidence + prev_evidence + prev_resp + (1 | subj)\n",
       "   Data: data\n",
       "Control: glmerControl(optimizer = \"bobyqa\", optCtrl = list(maxfun = 1e+05))\n",
       "\n",
       "     AIC      BIC   logLik deviance df.resid \n",
       " 40940.6  40983.5 -20465.3  40930.6    39063 \n",
       "\n",
       "Scaled residuals: \n",
       "    Min      1Q  Median      3Q     Max \n",
       "-6.8195 -0.6095 -0.2669  0.6338  4.9562 \n",
       "\n",
       "Random effects:\n",
       " Groups Name        Variance Std.Dev.\n",
       " subj   (Intercept) 0.339    0.5822  \n",
       "Number of obs: 39068, groups:  subj, 51\n",
       "\n",
       "Fixed effects:\n",
       "              Estimate Std. Error z value Pr(>|z|)    \n",
       "(Intercept)   -0.12601    0.08247  -1.528 0.126521    \n",
       "evidence       2.04385    0.02228  91.719  < 2e-16 ***\n",
       "prev_evidence -0.08503    0.02205  -3.855 0.000116 ***\n",
       "prev_resp     -0.07891    0.01446  -5.456 4.86e-08 ***\n",
       "---\n",
       "Signif. codes:  0 '***' 0.001 '**' 0.01 '*' 0.05 '.' 0.1 ' ' 1\n",
       "\n",
       "Correlation of Fixed Effects:\n",
       "            (Intr) evidnc prv_vd\n",
       "evidence    -0.007              \n",
       "prev_evidnc -0.003 -0.021       \n",
       "prev_resp    0.007 -0.032 -0.511"
      ]
     },
     "metadata": {},
     "output_type": "display_data"
    },
    {
     "data": {
      "text/html": [
       "<table class=\"dataframe\">\n",
       "<caption>A anova: 3 × 4</caption>\n",
       "<thead>\n",
       "\t<tr><th></th><th scope=col>npar</th><th scope=col>Sum Sq</th><th scope=col>Mean Sq</th><th scope=col>F value</th></tr>\n",
       "\t<tr><th></th><th scope=col>&lt;int&gt;</th><th scope=col>&lt;dbl&gt;</th><th scope=col>&lt;dbl&gt;</th><th scope=col>&lt;dbl&gt;</th></tr>\n",
       "</thead>\n",
       "<tbody>\n",
       "\t<tr><th scope=row>evidence</th><td>1</td><td>8367.24241</td><td>8367.24241</td><td>8367.24241</td></tr>\n",
       "\t<tr><th scope=row>prev_evidence</th><td>1</td><td>  59.88094</td><td>  59.88094</td><td>  59.88094</td></tr>\n",
       "\t<tr><th scope=row>prev_resp</th><td>1</td><td>  29.85903</td><td>  29.85903</td><td>  29.85903</td></tr>\n",
       "</tbody>\n",
       "</table>\n"
      ],
      "text/latex": [
       "A anova: 3 × 4\n",
       "\\begin{tabular}{r|llll}\n",
       "  & npar & Sum Sq & Mean Sq & F value\\\\\n",
       "  & <int> & <dbl> & <dbl> & <dbl>\\\\\n",
       "\\hline\n",
       "\tevidence & 1 & 8367.24241 & 8367.24241 & 8367.24241\\\\\n",
       "\tprev\\_evidence & 1 &   59.88094 &   59.88094 &   59.88094\\\\\n",
       "\tprev\\_resp & 1 &   29.85903 &   29.85903 &   29.85903\\\\\n",
       "\\end{tabular}\n"
      ],
      "text/markdown": [
       "\n",
       "A anova: 3 × 4\n",
       "\n",
       "| <!--/--> | npar &lt;int&gt; | Sum Sq &lt;dbl&gt; | Mean Sq &lt;dbl&gt; | F value &lt;dbl&gt; |\n",
       "|---|---|---|---|---|\n",
       "| evidence | 1 | 8367.24241 | 8367.24241 | 8367.24241 |\n",
       "| prev_evidence | 1 |   59.88094 |   59.88094 |   59.88094 |\n",
       "| prev_resp | 1 |   29.85903 |   29.85903 |   29.85903 |\n",
       "\n"
      ],
      "text/plain": [
       "              npar Sum Sq     Mean Sq    F value   \n",
       "evidence      1    8367.24241 8367.24241 8367.24241\n",
       "prev_evidence 1      59.88094   59.88094   59.88094\n",
       "prev_resp     1      29.85903   29.85903   29.85903"
      ]
     },
     "metadata": {},
     "output_type": "display_data"
    },
    {
     "data": {
      "image/png": "[encoded data removed]",
      "text/plain": [
       "plot without title"
      ]
     },
     "metadata": {
      "image/png": {
       "height": 420,
       "width": 420
      }
     },
     "output_type": "display_data"
    },
    {
     "data": {
      "image/png": "[encoded data removed]",
      "text/plain": [
       "plot without title"
      ]
     },
     "metadata": {
      "image/png": {
       "height": 420,
       "width": 420
      }
     },
     "output_type": "display_data"
    }
   ],
   "source": [
    "## Model 1 ####\n",
    "m_AR0 <- glmer(data=data, resp ~ \n",
    "                 \n",
    "                 evidence +\n",
    "                 prev_evidence + \n",
    "                 prev_resp +\n",
    "                 (1|subj),\n",
    "               family = binomial,control=glmerControl(optimizer='bobyqa',optCtrl = list(maxfun=100000)))\n",
    "\n",
    "vif(m_AR0)\n",
    "summary(m_AR0)\n",
    "anova(m_AR0)\n",
    "plot(effect(c('prev_evidence'), m_AR0)) \n",
    "plot(effect(c('prev_resp'), m_AR0)) "
   ]
  },
  {
   "cell_type": "markdown",
   "metadata": {},
   "source": [
    "## 2nd Model"
   ]
  },
  {
   "cell_type": "code",
   "execution_count": 3,
   "metadata": {
    "vscode": {
     "languageId": "r"
    }
   },
   "outputs": [
    {
     "data": {
      "text/html": [
       "<table class=\"dataframe\">\n",
       "<caption>A anova: 2 × 8</caption>\n",
       "<thead>\n",
       "\t<tr><th></th><th scope=col>npar</th><th scope=col>AIC</th><th scope=col>BIC</th><th scope=col>logLik</th><th scope=col>deviance</th><th scope=col>Chisq</th><th scope=col>Df</th><th scope=col>Pr(&gt;Chisq)</th></tr>\n",
       "\t<tr><th></th><th scope=col>&lt;dbl&gt;</th><th scope=col>&lt;dbl&gt;</th><th scope=col>&lt;dbl&gt;</th><th scope=col>&lt;dbl&gt;</th><th scope=col>&lt;dbl&gt;</th><th scope=col>&lt;dbl&gt;</th><th scope=col>&lt;dbl&gt;</th><th scope=col>&lt;dbl&gt;</th></tr>\n",
       "</thead>\n",
       "<tbody>\n",
       "\t<tr><th scope=row>m_AR0</th><td>5</td><td>40940.65</td><td>40983.51</td><td>-20465.32</td><td>40930.65</td><td>      NA</td><td>NA</td><td>           NA</td></tr>\n",
       "\t<tr><th scope=row>m_AR1</th><td>7</td><td>39961.62</td><td>40021.63</td><td>-19973.81</td><td>39947.62</td><td>983.0271</td><td> 2</td><td>3.454444e-214</td></tr>\n",
       "</tbody>\n",
       "</table>\n"
      ],
      "text/latex": [
       "A anova: 2 × 8\n",
       "\\begin{tabular}{r|llllllll}\n",
       "  & npar & AIC & BIC & logLik & deviance & Chisq & Df & Pr(>Chisq)\\\\\n",
       "  & <dbl> & <dbl> & <dbl> & <dbl> & <dbl> & <dbl> & <dbl> & <dbl>\\\\\n",
       "\\hline\n",
       "\tm\\_AR0 & 5 & 40940.65 & 40983.51 & -20465.32 & 40930.65 &       NA & NA &            NA\\\\\n",
       "\tm\\_AR1 & 7 & 39961.62 & 40021.63 & -19973.81 & 39947.62 & 983.0271 &  2 & 3.454444e-214\\\\\n",
       "\\end{tabular}\n"
      ],
      "text/markdown": [
       "\n",
       "A anova: 2 × 8\n",
       "\n",
       "| <!--/--> | npar &lt;dbl&gt; | AIC &lt;dbl&gt; | BIC &lt;dbl&gt; | logLik &lt;dbl&gt; | deviance &lt;dbl&gt; | Chisq &lt;dbl&gt; | Df &lt;dbl&gt; | Pr(&gt;Chisq) &lt;dbl&gt; |\n",
       "|---|---|---|---|---|---|---|---|---|\n",
       "| m_AR0 | 5 | 40940.65 | 40983.51 | -20465.32 | 40930.65 |       NA | NA |            NA |\n",
       "| m_AR1 | 7 | 39961.62 | 40021.63 | -19973.81 | 39947.62 | 983.0271 |  2 | 3.454444e-214 |\n",
       "\n"
      ],
      "text/plain": [
       "      npar AIC      BIC      logLik    deviance Chisq    Df Pr(>Chisq)   \n",
       "m_AR0 5    40940.65 40983.51 -20465.32 40930.65       NA NA            NA\n",
       "m_AR1 7    39961.62 40021.63 -19973.81 39947.62 983.0271  2 3.454444e-214"
      ]
     },
     "metadata": {},
     "output_type": "display_data"
    },
    {
     "data": {
      "text/html": [
       "<style>\n",
       ".dl-inline {width: auto; margin:0; padding: 0}\n",
       ".dl-inline>dt, .dl-inline>dd {float: none; width: auto; display: inline-block}\n",
       ".dl-inline>dt::after {content: \":\\0020\"; padding-right: .5ex}\n",
       ".dl-inline>dt:not(:first-of-type) {padding-left: .5ex}\n",
       "</style><dl class=dl-inline><dt>evidence</dt><dd>1.000147601167</dd><dt>prev_evidence</dt><dd>1.31727007848458</dd><dt>prev_resp</dt><dd>1.31731442065188</dd></dl>\n"
      ],
      "text/latex": [
       "\\begin{description*}\n",
       "\\item[evidence] 1.000147601167\n",
       "\\item[prev\\textbackslash{}\\_evidence] 1.31727007848458\n",
       "\\item[prev\\textbackslash{}\\_resp] 1.31731442065188\n",
       "\\end{description*}\n"
      ],
      "text/markdown": [
       "evidence\n",
       ":   1.000147601167prev_evidence\n",
       ":   1.31727007848458prev_resp\n",
       ":   1.31731442065188\n",
       "\n"
      ],
      "text/plain": [
       "     evidence prev_evidence     prev_resp \n",
       "     1.000148      1.317270      1.317314 "
      ]
     },
     "metadata": {},
     "output_type": "display_data"
    },
    {
     "data": {
      "text/plain": [
       "Generalized linear mixed model fit by maximum likelihood (Laplace\n",
       "  Approximation) [glmerMod]\n",
       " Family: binomial  ( logit )\n",
       "Formula: resp ~ evidence + prev_evidence + prev_resp + (1 + evidence |  \n",
       "    subj)\n",
       "   Data: data\n",
       "Control: glmerControl(optimizer = \"bobyqa\", optCtrl = list(maxfun = 1e+05))\n",
       "\n",
       "     AIC      BIC   logLik deviance df.resid \n",
       " 39961.6  40021.6 -19973.8  39947.6    39061 \n",
       "\n",
       "Scaled residuals: \n",
       "    Min      1Q  Median      3Q     Max \n",
       "-6.5825 -0.6365 -0.1850  0.6389  8.0160 \n",
       "\n",
       "Random effects:\n",
       " Groups Name        Variance Std.Dev. Corr \n",
       " subj   (Intercept) 0.3777   0.6146        \n",
       "        evidence    0.6150   0.7842   -0.22\n",
       "Number of obs: 39068, groups:  subj, 51\n",
       "\n",
       "Fixed effects:\n",
       "              Estimate Std. Error z value Pr(>|z|)    \n",
       "(Intercept)   -0.15057    0.08708  -1.729   0.0838 .  \n",
       "evidence       2.17394    0.11251  19.322  < 2e-16 ***\n",
       "prev_evidence -0.09252    0.02204  -4.197 2.70e-05 ***\n",
       "prev_resp     -0.08300    0.01445  -5.744 9.24e-09 ***\n",
       "---\n",
       "Signif. codes:  0 '***' 0.001 '**' 0.01 '*' 0.05 '.' 0.1 ' ' 1\n",
       "\n",
       "Correlation of Fixed Effects:\n",
       "            (Intr) evidnc prv_vd\n",
       "evidence    -0.214              \n",
       "prev_evidnc -0.002 -0.005       \n",
       "prev_resp    0.007 -0.007 -0.491"
      ]
     },
     "metadata": {},
     "output_type": "display_data"
    },
    {
     "data": {
      "text/html": [
       "<table class=\"dataframe\">\n",
       "<caption>A anova: 3 × 3</caption>\n",
       "<thead>\n",
       "\t<tr><th></th><th scope=col>Chisq</th><th scope=col>Df</th><th scope=col>Pr(&gt;Chisq)</th></tr>\n",
       "\t<tr><th></th><th scope=col>&lt;dbl&gt;</th><th scope=col>&lt;dbl&gt;</th><th scope=col>&lt;dbl&gt;</th></tr>\n",
       "</thead>\n",
       "<tbody>\n",
       "\t<tr><th scope=row>evidence</th><td>373.32300</td><td>1</td><td>3.537390e-83</td></tr>\n",
       "\t<tr><th scope=row>prev_evidence</th><td> 17.61680</td><td>1</td><td>2.701906e-05</td></tr>\n",
       "\t<tr><th scope=row>prev_resp</th><td> 32.99555</td><td>1</td><td>9.237019e-09</td></tr>\n",
       "</tbody>\n",
       "</table>\n"
      ],
      "text/latex": [
       "A anova: 3 × 3\n",
       "\\begin{tabular}{r|lll}\n",
       "  & Chisq & Df & Pr(>Chisq)\\\\\n",
       "  & <dbl> & <dbl> & <dbl>\\\\\n",
       "\\hline\n",
       "\tevidence & 373.32300 & 1 & 3.537390e-83\\\\\n",
       "\tprev\\_evidence &  17.61680 & 1 & 2.701906e-05\\\\\n",
       "\tprev\\_resp &  32.99555 & 1 & 9.237019e-09\\\\\n",
       "\\end{tabular}\n"
      ],
      "text/markdown": [
       "\n",
       "A anova: 3 × 3\n",
       "\n",
       "| <!--/--> | Chisq &lt;dbl&gt; | Df &lt;dbl&gt; | Pr(&gt;Chisq) &lt;dbl&gt; |\n",
       "|---|---|---|---|\n",
       "| evidence | 373.32300 | 1 | 3.537390e-83 |\n",
       "| prev_evidence |  17.61680 | 1 | 2.701906e-05 |\n",
       "| prev_resp |  32.99555 | 1 | 9.237019e-09 |\n",
       "\n"
      ],
      "text/plain": [
       "              Chisq     Df Pr(>Chisq)  \n",
       "evidence      373.32300 1  3.537390e-83\n",
       "prev_evidence  17.61680 1  2.701906e-05\n",
       "prev_resp      32.99555 1  9.237019e-09"
      ]
     },
     "metadata": {},
     "output_type": "display_data"
    },
    {
     "data": {
      "image/png": "[encoded data removed]",
      "text/plain": [
       "plot without title"
      ]
     },
     "metadata": {
      "image/png": {
       "height": 420,
       "width": 420
      }
     },
     "output_type": "display_data"
    },
    {
     "data": {
      "image/png": "[encoded data removed]",
      "text/plain": [
       "plot without title"
      ]
     },
     "metadata": {
      "image/png": {
       "height": 420,
       "width": 420
      }
     },
     "output_type": "display_data"
    }
   ],
   "source": [
    "## Model 2 ####\n",
    "m_AR1 <- glmer(data=data, resp ~ \n",
    "                 \n",
    "                 evidence +\n",
    "                 prev_evidence + \n",
    "                 prev_resp +\n",
    "                 (1 + evidence|subj),\n",
    "               family = binomial,control=glmerControl(optimizer='bobyqa',optCtrl = list(maxfun=100000)))\n",
    "\n",
    "anova(m_AR0, m_AR1)\n",
    "vif(m_AR1)\n",
    "summary(m_AR1)\n",
    "Anova(m_AR1)\n",
    "plot(effect(c('prev_evidence'), m_AR1)) \n",
    "plot(effect(c('prev_resp'), m_AR1)) "
   ]
  },
  {
   "cell_type": "markdown",
   "metadata": {},
   "source": [
    "## 3rd Model"
   ]
  },
  {
   "cell_type": "code",
   "execution_count": 4,
   "metadata": {
    "vscode": {
     "languageId": "r"
    }
   },
   "outputs": [
    {
     "data": {
      "text/html": [
       "<table class=\"dataframe\">\n",
       "<caption>A anova: 2 × 8</caption>\n",
       "<thead>\n",
       "\t<tr><th></th><th scope=col>npar</th><th scope=col>AIC</th><th scope=col>BIC</th><th scope=col>logLik</th><th scope=col>deviance</th><th scope=col>Chisq</th><th scope=col>Df</th><th scope=col>Pr(&gt;Chisq)</th></tr>\n",
       "\t<tr><th></th><th scope=col>&lt;dbl&gt;</th><th scope=col>&lt;dbl&gt;</th><th scope=col>&lt;dbl&gt;</th><th scope=col>&lt;dbl&gt;</th><th scope=col>&lt;dbl&gt;</th><th scope=col>&lt;dbl&gt;</th><th scope=col>&lt;dbl&gt;</th><th scope=col>&lt;dbl&gt;</th></tr>\n",
       "</thead>\n",
       "<tbody>\n",
       "\t<tr><th scope=row>m_AR1</th><td> 7</td><td>39961.62</td><td>40021.63</td><td>-19973.81</td><td>39947.62</td><td>      NA</td><td>NA</td><td>          NA</td></tr>\n",
       "\t<tr><th scope=row>m_AR2</th><td>10</td><td>39728.99</td><td>39814.72</td><td>-19854.50</td><td>39708.99</td><td>238.6265</td><td> 3</td><td>1.885908e-51</td></tr>\n",
       "</tbody>\n",
       "</table>\n"
      ],
      "text/latex": [
       "A anova: 2 × 8\n",
       "\\begin{tabular}{r|llllllll}\n",
       "  & npar & AIC & BIC & logLik & deviance & Chisq & Df & Pr(>Chisq)\\\\\n",
       "  & <dbl> & <dbl> & <dbl> & <dbl> & <dbl> & <dbl> & <dbl> & <dbl>\\\\\n",
       "\\hline\n",
       "\tm\\_AR1 &  7 & 39961.62 & 40021.63 & -19973.81 & 39947.62 &       NA & NA &           NA\\\\\n",
       "\tm\\_AR2 & 10 & 39728.99 & 39814.72 & -19854.50 & 39708.99 & 238.6265 &  3 & 1.885908e-51\\\\\n",
       "\\end{tabular}\n"
      ],
      "text/markdown": [
       "\n",
       "A anova: 2 × 8\n",
       "\n",
       "| <!--/--> | npar &lt;dbl&gt; | AIC &lt;dbl&gt; | BIC &lt;dbl&gt; | logLik &lt;dbl&gt; | deviance &lt;dbl&gt; | Chisq &lt;dbl&gt; | Df &lt;dbl&gt; | Pr(&gt;Chisq) &lt;dbl&gt; |\n",
       "|---|---|---|---|---|---|---|---|---|\n",
       "| m_AR1 |  7 | 39961.62 | 40021.63 | -19973.81 | 39947.62 |       NA | NA |           NA |\n",
       "| m_AR2 | 10 | 39728.99 | 39814.72 | -19854.50 | 39708.99 | 238.6265 |  3 | 1.885908e-51 |\n",
       "\n"
      ],
      "text/plain": [
       "      npar AIC      BIC      logLik    deviance Chisq    Df Pr(>Chisq)  \n",
       "m_AR1  7   39961.62 40021.63 -19973.81 39947.62       NA NA           NA\n",
       "m_AR2 10   39728.99 39814.72 -19854.50 39708.99 238.6265  3 1.885908e-51"
      ]
     },
     "metadata": {},
     "output_type": "display_data"
    },
    {
     "data": {
      "text/html": [
       "<style>\n",
       ".dl-inline {width: auto; margin:0; padding: 0}\n",
       ".dl-inline>dt, .dl-inline>dd {float: none; width: auto; display: inline-block}\n",
       ".dl-inline>dt::after {content: \":\\0020\"; padding-right: .5ex}\n",
       ".dl-inline>dt:not(:first-of-type) {padding-left: .5ex}\n",
       "</style><dl class=dl-inline><dt>evidence</dt><dd>1.48217826072189</dd><dt>prev_evidence</dt><dd>1.55282368877363</dd><dt>prev_resp</dt><dd>1.07241173845875</dd></dl>\n"
      ],
      "text/latex": [
       "\\begin{description*}\n",
       "\\item[evidence] 1.48217826072189\n",
       "\\item[prev\\textbackslash{}\\_evidence] 1.55282368877363\n",
       "\\item[prev\\textbackslash{}\\_resp] 1.07241173845875\n",
       "\\end{description*}\n"
      ],
      "text/markdown": [
       "evidence\n",
       ":   1.48217826072189prev_evidence\n",
       ":   1.55282368877363prev_resp\n",
       ":   1.07241173845875\n",
       "\n"
      ],
      "text/plain": [
       "     evidence prev_evidence     prev_resp \n",
       "     1.482178      1.552824      1.072412 "
      ]
     },
     "metadata": {},
     "output_type": "display_data"
    },
    {
     "data": {
      "text/plain": [
       "Generalized linear mixed model fit by maximum likelihood (Laplace\n",
       "  Approximation) [glmerMod]\n",
       " Family: binomial  ( logit )\n",
       "Formula: resp ~ evidence + prev_evidence + prev_resp + (1 + evidence +  \n",
       "    prev_evidence | subj)\n",
       "   Data: data\n",
       "Control: glmerControl(optimizer = \"bobyqa\", optCtrl = list(maxfun = 1e+05))\n",
       "\n",
       "     AIC      BIC   logLik deviance df.resid \n",
       " 39729.0  39814.7 -19854.5  39709.0    39058 \n",
       "\n",
       "Scaled residuals: \n",
       "    Min      1Q  Median      3Q     Max \n",
       "-7.2778 -0.6207 -0.1774  0.6294  7.7583 \n",
       "\n",
       "Random effects:\n",
       " Groups Name          Variance Std.Dev. Corr       \n",
       " subj   (Intercept)   0.3800   0.6164              \n",
       "        evidence      0.6343   0.7964   -0.23      \n",
       "        prev_evidence 0.1178   0.3433    0.23 -0.63\n",
       "Number of obs: 39068, groups:  subj, 51\n",
       "\n",
       "Fixed effects:\n",
       "              Estimate Std. Error z value Pr(>|z|)    \n",
       "(Intercept)   -0.15283    0.08732  -1.750  0.08006 .  \n",
       "evidence       2.19802    0.11430  19.231  < 2e-16 ***\n",
       "prev_evidence -0.15329    0.05333  -2.874  0.00405 ** \n",
       "prev_resp     -0.05809    0.01467  -3.961 7.47e-05 ***\n",
       "---\n",
       "Signif. codes:  0 '***' 0.001 '**' 0.01 '*' 0.05 '.' 0.1 ' ' 1\n",
       "\n",
       "Correlation of Fixed Effects:\n",
       "            (Intr) evidnc prv_vd\n",
       "evidence    -0.224              \n",
       "prev_evidnc  0.202 -0.556       \n",
       "prev_resp    0.007 -0.005 -0.213"
      ]
     },
     "metadata": {},
     "output_type": "display_data"
    },
    {
     "data": {
      "text/html": [
       "<table class=\"dataframe\">\n",
       "<caption>A anova: 3 × 3</caption>\n",
       "<thead>\n",
       "\t<tr><th></th><th scope=col>Chisq</th><th scope=col>Df</th><th scope=col>Pr(&gt;Chisq)</th></tr>\n",
       "\t<tr><th></th><th scope=col>&lt;dbl&gt;</th><th scope=col>&lt;dbl&gt;</th><th scope=col>&lt;dbl&gt;</th></tr>\n",
       "</thead>\n",
       "<tbody>\n",
       "\t<tr><th scope=row>evidence</th><td>369.828327</td><td>1</td><td>2.039730e-82</td></tr>\n",
       "\t<tr><th scope=row>prev_evidence</th><td>  8.261484</td><td>1</td><td>4.049501e-03</td></tr>\n",
       "\t<tr><th scope=row>prev_resp</th><td> 15.688929</td><td>1</td><td>7.465988e-05</td></tr>\n",
       "</tbody>\n",
       "</table>\n"
      ],
      "text/latex": [
       "A anova: 3 × 3\n",
       "\\begin{tabular}{r|lll}\n",
       "  & Chisq & Df & Pr(>Chisq)\\\\\n",
       "  & <dbl> & <dbl> & <dbl>\\\\\n",
       "\\hline\n",
       "\tevidence & 369.828327 & 1 & 2.039730e-82\\\\\n",
       "\tprev\\_evidence &   8.261484 & 1 & 4.049501e-03\\\\\n",
       "\tprev\\_resp &  15.688929 & 1 & 7.465988e-05\\\\\n",
       "\\end{tabular}\n"
      ],
      "text/markdown": [
       "\n",
       "A anova: 3 × 3\n",
       "\n",
       "| <!--/--> | Chisq &lt;dbl&gt; | Df &lt;dbl&gt; | Pr(&gt;Chisq) &lt;dbl&gt; |\n",
       "|---|---|---|---|\n",
       "| evidence | 369.828327 | 1 | 2.039730e-82 |\n",
       "| prev_evidence |   8.261484 | 1 | 4.049501e-03 |\n",
       "| prev_resp |  15.688929 | 1 | 7.465988e-05 |\n",
       "\n"
      ],
      "text/plain": [
       "              Chisq      Df Pr(>Chisq)  \n",
       "evidence      369.828327 1  2.039730e-82\n",
       "prev_evidence   8.261484 1  4.049501e-03\n",
       "prev_resp      15.688929 1  7.465988e-05"
      ]
     },
     "metadata": {},
     "output_type": "display_data"
    },
    {
     "data": {
      "image/png": "[encoded data removed]",
      "text/plain": [
       "plot without title"
      ]
     },
     "metadata": {
      "image/png": {
       "height": 420,
       "width": 420
      }
     },
     "output_type": "display_data"
    },
    {
     "data": {
      "image/png": "[encoded data removed]",
      "text/plain": [
       "plot without title"
      ]
     },
     "metadata": {
      "image/png": {
       "height": 420,
       "width": 420
      }
     },
     "output_type": "display_data"
    }
   ],
   "source": [
    "## Model 3 ####\n",
    "\n",
    "m_AR2 <- glmer(data=data, resp ~ \n",
    "                 \n",
    "                 evidence +\n",
    "                 prev_evidence + \n",
    "                 prev_resp +\n",
    "                 (1 + evidence + prev_evidence|subj),\n",
    "               family = binomial,control=glmerControl(optimizer='bobyqa',optCtrl = list(maxfun=100000)))\n",
    "\n",
    "anova(m_AR1, m_AR2)\n",
    "vif(m_AR2)\n",
    "summary(m_AR2)\n",
    "Anova(m_AR2)\n",
    "plot(effect(c('prev_evidence'), m_AR2))\n",
    "plot(effect(c('prev_resp'), m_AR2))\n"
   ]
  },
  {
   "cell_type": "markdown",
   "metadata": {},
   "source": [
    "## 4th Model"
   ]
  },
  {
   "cell_type": "code",
   "execution_count": 22,
   "metadata": {
    "vscode": {
     "languageId": "r"
    }
   },
   "outputs": [
    {
     "data": {
      "text/html": [
       "<style>\n",
       ".dl-inline {width: auto; margin:0; padding: 0}\n",
       ".dl-inline>dt, .dl-inline>dd {float: none; width: auto; display: inline-block}\n",
       ".dl-inline>dt::after {content: \":\\0020\"; padding-right: .5ex}\n",
       ".dl-inline>dt:not(:first-of-type) {padding-left: .5ex}\n",
       "</style><dl class=dl-inline><dt>evidence</dt><dd>1.76664618081469</dd><dt>prev_evidence</dt><dd>1.8503686815973</dd><dt>prev_resp</dt><dd>1.066786752315</dd></dl>\n"
      ],
      "text/latex": [
       "\\begin{description*}\n",
       "\\item[evidence] 1.76664618081469\n",
       "\\item[prev\\textbackslash{}\\_evidence] 1.8503686815973\n",
       "\\item[prev\\textbackslash{}\\_resp] 1.066786752315\n",
       "\\end{description*}\n"
      ],
      "text/markdown": [
       "evidence\n",
       ":   1.76664618081469prev_evidence\n",
       ":   1.8503686815973prev_resp\n",
       ":   1.066786752315\n",
       "\n"
      ],
      "text/plain": [
       "     evidence prev_evidence     prev_resp \n",
       "     1.766646      1.850369      1.066787 "
      ]
     },
     "metadata": {},
     "output_type": "display_data"
    },
    {
     "data": {
      "text/plain": [
       "Generalized linear mixed model fit by maximum likelihood (Laplace\n",
       "  Approximation) [glmerMod]\n",
       " Family: binomial  ( logit )\n",
       "Formula: resp ~ evidence + prev_evidence + prev_resp + (1 + evidence +  \n",
       "    prev_evidence + prev_resp | subj)\n",
       "   Data: data\n",
       "Control: glmerControl(optimizer = \"bobyqa\", optCtrl = list(maxfun = 1e+05))\n",
       "\n",
       "     AIC      BIC   logLik deviance df.resid \n",
       " 39550.1  39670.2 -19761.1  39522.1    39054 \n",
       "\n",
       "Scaled residuals: \n",
       "    Min      1Q  Median      3Q     Max \n",
       "-6.7972 -0.6176 -0.1731  0.6281  7.8103 \n",
       "\n",
       "Random effects:\n",
       " Groups Name          Variance Std.Dev. Corr             \n",
       " subj   (Intercept)   0.3624   0.6020                    \n",
       "        evidence      0.6433   0.8020   -0.27            \n",
       "        prev_evidence 0.1050   0.3240    0.17 -0.75      \n",
       "        prev_resp1    0.2478   0.4978   -0.16  0.06 -0.14\n",
       "Number of obs: 39068, groups:  subj, 51\n",
       "\n",
       "Fixed effects:\n",
       "              Estimate Std. Error z value Pr(>|z|)    \n",
       "(Intercept)   -0.10187    0.08667  -1.175  0.23986    \n",
       "evidence       2.20966    0.11506  19.204  < 2e-16 ***\n",
       "prev_evidence -0.15498    0.05135  -3.018  0.00254 ** \n",
       "prev_resp1    -0.12304    0.07665  -1.605  0.10846    \n",
       "---\n",
       "Signif. codes:  0 '***' 0.001 '**' 0.01 '*' 0.05 '.' 0.1 ' ' 1\n",
       "\n",
       "Correlation of Fixed Effects:\n",
       "            (Intr) evidnc prv_vd\n",
       "evidence    -0.258              \n",
       "prev_evidnc  0.194 -0.652       \n",
       "prev_resp1  -0.213  0.049 -0.218"
      ]
     },
     "metadata": {},
     "output_type": "display_data"
    },
    {
     "data": {
      "text/html": [
       "<table class=\"dataframe\">\n",
       "<caption>A anova: 3 × 3</caption>\n",
       "<thead>\n",
       "\t<tr><th></th><th scope=col>Chisq</th><th scope=col>Df</th><th scope=col>Pr(&gt;Chisq)</th></tr>\n",
       "\t<tr><th></th><th scope=col>&lt;dbl&gt;</th><th scope=col>&lt;dbl&gt;</th><th scope=col>&lt;dbl&gt;</th></tr>\n",
       "</thead>\n",
       "<tbody>\n",
       "\t<tr><th scope=row>evidence</th><td>368.807610</td><td>1</td><td>3.402636e-82</td></tr>\n",
       "\t<tr><th scope=row>prev_evidence</th><td>  9.109900</td><td>1</td><td>2.542297e-03</td></tr>\n",
       "\t<tr><th scope=row>prev_resp</th><td>  2.576581</td><td>1</td><td>1.084557e-01</td></tr>\n",
       "</tbody>\n",
       "</table>\n"
      ],
      "text/latex": [
       "A anova: 3 × 3\n",
       "\\begin{tabular}{r|lll}\n",
       "  & Chisq & Df & Pr(>Chisq)\\\\\n",
       "  & <dbl> & <dbl> & <dbl>\\\\\n",
       "\\hline\n",
       "\tevidence & 368.807610 & 1 & 3.402636e-82\\\\\n",
       "\tprev\\_evidence &   9.109900 & 1 & 2.542297e-03\\\\\n",
       "\tprev\\_resp &   2.576581 & 1 & 1.084557e-01\\\\\n",
       "\\end{tabular}\n"
      ],
      "text/markdown": [
       "\n",
       "A anova: 3 × 3\n",
       "\n",
       "| <!--/--> | Chisq &lt;dbl&gt; | Df &lt;dbl&gt; | Pr(&gt;Chisq) &lt;dbl&gt; |\n",
       "|---|---|---|---|\n",
       "| evidence | 368.807610 | 1 | 3.402636e-82 |\n",
       "| prev_evidence |   9.109900 | 1 | 2.542297e-03 |\n",
       "| prev_resp |   2.576581 | 1 | 1.084557e-01 |\n",
       "\n"
      ],
      "text/plain": [
       "              Chisq      Df Pr(>Chisq)  \n",
       "evidence      368.807610 1  3.402636e-82\n",
       "prev_evidence   9.109900 1  2.542297e-03\n",
       "prev_resp       2.576581 1  1.084557e-01"
      ]
     },
     "metadata": {},
     "output_type": "display_data"
    },
    {
     "data": {
      "image/png": "[encoded data removed]",
      "text/plain": [
       "plot without title"
      ]
     },
     "metadata": {
      "image/png": {
       "height": 420,
       "width": 420
      }
     },
     "output_type": "display_data"
    },
    {
     "data": {
      "image/png": "[encoded data removed]",
      "text/plain": [
       "plot without title"
      ]
     },
     "metadata": {
      "image/png": {
       "height": 420,
       "width": 420
      }
     },
     "output_type": "display_data"
    },
    {
     "data": {
      "image/png": "[encoded data removed]",
      "text/plain": [
       "plot without title"
      ]
     },
     "metadata": {
      "image/png": {
       "height": 420,
       "width": 420
      }
     },
     "output_type": "display_data"
    },
    {
     "data": {
      "image/png": "[encoded data removed]",
      "text/plain": [
       "plot without title"
      ]
     },
     "metadata": {
      "image/png": {
       "height": 420,
       "width": 420
      }
     },
     "output_type": "display_data"
    }
   ],
   "source": [
    "## Model 4 ####\n",
    "data$prev_resp <- as.factor(data$prev_resp)\n",
    "m_AR3 <- glmer(data=data, resp ~ \n",
    "                  # nolint\n",
    "                 evidence +\n",
    "                 prev_evidence + \n",
    "                 prev_resp +\n",
    "                 (1 + evidence + prev_evidence + prev_resp|subj),\n",
    "               family = binomial,control=glmerControl(optimizer='bobyqa',optCtrl = list(maxfun=100000)))\n",
    "\n",
    "#anova(m_AR2, m_AR3)\n",
    "vif(m_AR3)\n",
    "summary(m_AR3)\n",
    "Anova(m_AR3)\n",
    "plot(effect(c('prev_evidence'), m_AR3), ylab = \"p(Red)\")\n",
    "plot(effect(c('prev_resp'), m_AR3))\n",
    "plot(effect(c('evidence'), m_AR3))\n",
    "\n",
    "plot(m_AR3, type=\"re\")"
   ]
  },
  {
   "cell_type": "code",
   "execution_count": 31,
   "metadata": {
    "vscode": {
     "languageId": "r"
    }
   },
   "outputs": [
    {
     "ename": "ERROR",
     "evalue": "Error in axis(1, at = 1:length(eff$levels[[1]]), labels = eff$levels[[1]]): plot.new has not been called yet\n",
     "output_type": "error",
     "traceback": [
      "Error in axis(1, at = 1:length(eff$levels[[1]]), labels = eff$levels[[1]]): plot.new has not been called yet\nTraceback:\n",
      "1. axis(1, at = 1:length(eff$levels[[1]]), labels = eff$levels[[1]])"
     ]
    },
    {
     "data": {
      "image/png": "[encoded data removed]",
      "text/plain": [
       "plot without title"
      ]
     },
     "metadata": {
      "image/png": {
       "height": 420,
       "width": 420
      }
     },
     "output_type": "display_data"
    }
   ],
   "source": [
    "# Save the effect object\n",
    "eff <- effect(c('prev_evidence'), m_AR3)\n",
    "\n",
    "# Plot the effect\n",
    "plot(eff, ylab = \"p(Red)\", xaxt = \"n\")  # xaxt = \"n\" suppresses the x-axis\n",
    "\n",
    "# Add custom x-ticks using the axis function\n",
    "axis(1, at = 1:length(eff$levels[[1]]), labels = eff$levels[[1]])"
   ]
  },
  {
   "cell_type": "code",
   "execution_count": 13,
   "metadata": {
    "vscode": {
     "languageId": "r"
    }
   },
   "outputs": [
    {
     "data": {
      "image/png": "[encoded data removed]",
      "text/plain": [
       "Plot with title \"Normal Q-Q Plot\""
      ]
     },
     "metadata": {
      "image/png": {
       "height": 420,
       "width": 420
      }
     },
     "output_type": "display_data"
    },
    {
     "name": "stderr",
     "output_type": "stream",
     "text": [
      "Warning message:\n",
      "\"package 'DHARMa' is in use and will not be installed\"\n",
      "plotSimulatedResiduals is deprecated, please switch your code to simply using the plot() function\n",
      "\n"
     ]
    },
    {
     "data": {
      "image/png": "[encoded data removed]",
      "text/plain": [
       "Plot with title \"Normal Q-Q Plot\""
      ]
     },
     "metadata": {
      "image/png": {
       "height": 420,
       "width": 420
      }
     },
     "output_type": "display_data"
    },
    {
     "data": {
      "text/html": [
       "<style>\n",
       ".dl-inline {width: auto; margin:0; padding: 0}\n",
       ".dl-inline>dt, .dl-inline>dd {float: none; width: auto; display: inline-block}\n",
       ".dl-inline>dt::after {content: \":\\0020\"; padding-right: .5ex}\n",
       ".dl-inline>dt:not(:first-of-type) {padding-left: .5ex}\n",
       "</style><dl class=dl-inline><dt>chisq</dt><dd>37686.3103825079</dd><dt>ratio</dt><dd>0.964979525336916</dd><dt>rdf</dt><dd>39054</dd><dt>p</dt><dd>0.999999628280479</dd></dl>\n"
      ],
      "text/latex": [
       "\\begin{description*}\n",
       "\\item[chisq] 37686.3103825079\n",
       "\\item[ratio] 0.964979525336916\n",
       "\\item[rdf] 39054\n",
       "\\item[p] 0.999999628280479\n",
       "\\end{description*}\n"
      ],
      "text/markdown": [
       "chisq\n",
       ":   37686.3103825079ratio\n",
       ":   0.964979525336916rdf\n",
       ":   39054p\n",
       ":   0.999999628280479\n",
       "\n"
      ],
      "text/plain": [
       "       chisq        ratio          rdf            p \n",
       "3.768631e+04 9.649795e-01 3.905400e+04 9.999996e-01 "
      ]
     },
     "metadata": {},
     "output_type": "display_data"
    },
    {
     "data": {
      "image/png": "[encoded data removed]",
      "text/plain": [
       "Plot with title \"Residual vs. predicted\""
      ]
     },
     "metadata": {
      "image/png": {
       "height": 420,
       "width": 420
      }
     },
     "output_type": "display_data"
    }
   ],
   "source": [
    "ranef_values <- ranef(m_AR3, condVar=TRUE)\n",
    "qqnorm(unlist(ranef_values$subj))\n",
    "qqline(unlist(ranef_values$subj))\n",
    "\n",
    "ranef_values <- ranef(m_AR3, condVar=TRUE)\n",
    "qqnorm(unlist(ranef_values$subj))\n",
    "qqline(unlist(ranef_values$subj))\n",
    "\n",
    "install.packages('DHARMa')\n",
    "library(DHARMa)\n",
    "simulated_res <- simulateResiduals(fittedModel = m_AR3)\n",
    "plotSimulatedResiduals(simulated_res)\n",
    "\n",
    "overdisp_fun <- function(model) {\n",
    "  rdf <- df.residual(model)\n",
    "  rp <- residuals(model, type = \"pearson\")\n",
    "  Pearson.chisq <- sum(rp^2)\n",
    "  prat <- Pearson.chisq / rdf\n",
    "  pval <- pchisq(Pearson.chisq, df = rdf, lower.tail = FALSE)\n",
    "  c(chisq = Pearson.chisq, ratio = prat, rdf = rdf, p = pval)\n",
    "}\n",
    "overdisp_fun(m_AR3)\n",
    "\n",
    "\n"
   ]
  },
  {
   "cell_type": "code",
   "execution_count": 64,
   "metadata": {
    "vscode": {
     "languageId": "r"
    }
   },
   "outputs": [
    {
     "data": {
      "text/html": [
       "<strong>png:</strong> 2"
      ],
      "text/latex": [
       "\\textbf{png:} 2"
      ],
      "text/markdown": [
       "**png:** 2"
      ],
      "text/plain": [
       "png \n",
       "  2 "
      ]
     },
     "metadata": {},
     "output_type": "display_data"
    },
    {
     "data": {
      "text/html": [
       "<strong>png:</strong> 2"
      ],
      "text/latex": [
       "\\textbf{png:} 2"
      ],
      "text/markdown": [
       "**png:** 2"
      ],
      "text/plain": [
       "png \n",
       "  2 "
      ]
     },
     "metadata": {},
     "output_type": "display_data"
    }
   ],
   "source": [
    "# Load the ggplot2 package\n",
    "library(ggplot2)\n",
    "\n",
    "# Assuming you have already loaded the effects package and created m_AR3 model\n",
    "\n",
    "# Define the resolution, size, and color\n",
    "res <- 600  # Ultra high quality\n",
    "size <- 3000  # Square size\n",
    "color <- \"#c9481d\"  # replace \"#c9481d\" with your desired color\n",
    "\n",
    "# Get the effects\n",
    "eff_prev_evidence <- effect(c('prev_evidence'), m_AR3)\n",
    "eff_prev_resp <- effect(c('prev_resp'), m_AR3)\n",
    "\n",
    "# Convert the effects to data frames\n",
    "df_prev_evidence <- as.data.frame(eff_prev_evidence)\n",
    "df_prev_resp <- as.data.frame(eff_prev_resp)\n",
    "\n",
    "# Plot the effect of 'prev_evidence' and save it\n",
    "png(\"plot1.png\", bg = \"transparent\", width = size, height = size, res = res)\n",
    "ggplot(df_prev_evidence, aes(x=prev_evidence, y=fit)) +\n",
    "  geom_line(color=color) +\n",
    "  geom_ribbon(aes(ymin=lower, ymax=upper), fill=color, alpha=0.4) +\n",
    "  theme(plot.background = element_rect(fill = \"transparent\", colour = NA),\n",
    "        panel.background = element_rect(fill = \"transparent\", colour = NA),\n",
    "        legend.background = element_rect(fill = \"transparent\", colour = NA),\n",
    "        panel.grid.major = element_blank(),\n",
    "        panel.grid.minor = element_blank(),\n",
    "        axis.line = element_line(color = \"black\"))\n",
    "dev.off()\n",
    "\n",
    "# Convert 'prev_resp' to numeric\n",
    "df_prev_resp$prev_resp <- as.numeric(as.character(df_prev_resp$prev_resp))\n",
    "\n",
    "# Plot the effect of 'prev_resp' and save it\n",
    "png(\"plot2.png\", bg = \"transparent\", width = size, height = size, res = res)\n",
    "ggplot(df_prev_resp, aes(x=prev_resp, y=fit)) +\n",
    "  geom_ribbon(aes(ymin=lower, ymax=upper), fill=color, alpha=0.4) +\n",
    "  geom_point(color=color) +\n",
    "  geom_line(color=color, group=1) +\n",
    "  theme(plot.background = element_rect(fill = \"transparent\", colour = NA),\n",
    "        panel.background = element_rect(fill = \"transparent\", colour = NA),\n",
    "        legend.background = element_rect(fill = \"transparent\", colour = NA),\n",
    "        panel.grid.major = element_blank(),\n",
    "        panel.grid.minor = element_blank(),\n",
    "        axis.line = element_line(color = \"black\"))\n",
    "dev.off()"
   ]
  },
  {
   "cell_type": "code",
   "execution_count": null,
   "metadata": {
    "vscode": {
     "languageId": "r"
    }
   },
   "outputs": [],
   "source": []
  },
  {
   "cell_type": "markdown",
   "metadata": {},
   "source": [
    "## TOKYO Drift"
   ]
  },
  {
   "cell_type": "code",
   "execution_count": 6,
   "metadata": {
    "vscode": {
     "languageId": "r"
    }
   },
   "outputs": [],
   "source": [
    "drift_data <- read.csv(\"df_tokyodriftV2.csv\")"
   ]
  },
  {
   "cell_type": "code",
   "execution_count": 7,
   "metadata": {
    "vscode": {
     "languageId": "r"
    }
   },
   "outputs": [],
   "source": [
    "data <- data[order(data$subj), ]\n",
    "data$slowdrift <- drift_data$slowdrift\n",
    "data$prev_resp <- as.factor(data$prev_resp)"
   ]
  },
  {
   "cell_type": "code",
   "execution_count": 8,
   "metadata": {
    "vscode": {
     "languageId": "r"
    }
   },
   "outputs": [
    {
     "data": {
      "text/html": [
       "<style>\n",
       ".dl-inline {width: auto; margin:0; padding: 0}\n",
       ".dl-inline>dt, .dl-inline>dd {float: none; width: auto; display: inline-block}\n",
       ".dl-inline>dt::after {content: \":\\0020\"; padding-right: .5ex}\n",
       ".dl-inline>dt:not(:first-of-type) {padding-left: .5ex}\n",
       "</style><dl class=dl-inline><dt>evidence</dt><dd>1.19640809635559</dd><dt>prev_evidence</dt><dd>1.10604064622341</dd><dt>prev_resp</dt><dd>1.25951960099677</dd><dt>slowdrift</dt><dd>1.11551749362035</dd></dl>\n"
      ],
      "text/latex": [
       "\\begin{description*}\n",
       "\\item[evidence] 1.19640809635559\n",
       "\\item[prev\\textbackslash{}\\_evidence] 1.10604064622341\n",
       "\\item[prev\\textbackslash{}\\_resp] 1.25951960099677\n",
       "\\item[slowdrift] 1.11551749362035\n",
       "\\end{description*}\n"
      ],
      "text/markdown": [
       "evidence\n",
       ":   1.19640809635559prev_evidence\n",
       ":   1.10604064622341prev_resp\n",
       ":   1.25951960099677slowdrift\n",
       ":   1.11551749362035\n",
       "\n"
      ],
      "text/plain": [
       "     evidence prev_evidence     prev_resp     slowdrift \n",
       "     1.196408      1.106041      1.259520      1.115517 "
      ]
     },
     "metadata": {},
     "output_type": "display_data"
    },
    {
     "data": {
      "text/plain": [
       "Generalized linear mixed model fit by maximum likelihood (Laplace\n",
       "  Approximation) [glmerMod]\n",
       " Family: binomial  ( logit )\n",
       "Formula: resp ~ evidence + prev_evidence + prev_resp + +slowdrift + (1 +  \n",
       "    evidence + prev_evidence + prev_resp + slowdrift | subj)\n",
       "   Data: data\n",
       "Control: glmerControl(optimizer = \"bobyqa\", optCtrl = list(maxfun = 1e+05))\n",
       "\n",
       "     AIC      BIC   logLik deviance df.resid \n",
       " 31091.6  31263.0 -15525.8  31051.6    39048 \n",
       "\n",
       "Scaled residuals: \n",
       "     Min       1Q   Median       3Q      Max \n",
       "-14.4673  -0.4300  -0.0616   0.4314  16.1297 \n",
       "\n",
       "Random effects:\n",
       " Groups Name          Variance Std.Dev. Corr                   \n",
       " subj   (Intercept)   0.64211  0.8013                          \n",
       "        evidence      1.32137  1.1495   -0.14                  \n",
       "        prev_evidence 0.08684  0.2947    0.01 -0.31            \n",
       "        prev_resp1    0.33207  0.5763   -0.09 -0.31  0.06      \n",
       "        slowdrift     2.23815  1.4960   -0.03  0.02 -0.05 -0.30\n",
       "Number of obs: 39068, groups:  subj, 51\n",
       "\n",
       "Fixed effects:\n",
       "              Estimate Std. Error z value Pr(>|z|)    \n",
       "(Intercept)    0.44237    0.11495   3.849 0.000119 ***\n",
       "evidence       2.94921    0.16459  17.919  < 2e-16 ***\n",
       "prev_evidence  0.30755    0.05019   6.127 8.94e-10 ***\n",
       "prev_resp1    -1.35599    0.09047 -14.988  < 2e-16 ***\n",
       "slowdrift      4.85638    0.22054  22.021  < 2e-16 ***\n",
       "---\n",
       "Signif. codes:  0 '***' 0.001 '**' 0.01 '*' 0.05 '.' 0.1 ' ' 1\n",
       "\n",
       "Correlation of Fixed Effects:\n",
       "            (Intr) evidnc prv_vd prv_r1\n",
       "evidence    -0.134                     \n",
       "prev_evidnc  0.061 -0.245              \n",
       "prev_resp1  -0.150 -0.290 -0.102       \n",
       "slowdrift   -0.009  0.045 -0.005 -0.314"
      ]
     },
     "metadata": {},
     "output_type": "display_data"
    },
    {
     "data": {
      "text/html": [
       "<table class=\"dataframe\">\n",
       "<caption>A anova: 4 × 3</caption>\n",
       "<thead>\n",
       "\t<tr><th></th><th scope=col>Chisq</th><th scope=col>Df</th><th scope=col>Pr(&gt;Chisq)</th></tr>\n",
       "\t<tr><th></th><th scope=col>&lt;dbl&gt;</th><th scope=col>&lt;dbl&gt;</th><th scope=col>&lt;dbl&gt;</th></tr>\n",
       "</thead>\n",
       "<tbody>\n",
       "\t<tr><th scope=row>evidence</th><td>321.07301</td><td>1</td><td> 8.456242e-72</td></tr>\n",
       "\t<tr><th scope=row>prev_evidence</th><td> 37.54369</td><td>1</td><td> 8.938796e-10</td></tr>\n",
       "\t<tr><th scope=row>prev_resp</th><td>224.62632</td><td>1</td><td> 8.857520e-51</td></tr>\n",
       "\t<tr><th scope=row>slowdrift</th><td>484.91709</td><td>1</td><td>1.818892e-107</td></tr>\n",
       "</tbody>\n",
       "</table>\n"
      ],
      "text/latex": [
       "A anova: 4 × 3\n",
       "\\begin{tabular}{r|lll}\n",
       "  & Chisq & Df & Pr(>Chisq)\\\\\n",
       "  & <dbl> & <dbl> & <dbl>\\\\\n",
       "\\hline\n",
       "\tevidence & 321.07301 & 1 &  8.456242e-72\\\\\n",
       "\tprev\\_evidence &  37.54369 & 1 &  8.938796e-10\\\\\n",
       "\tprev\\_resp & 224.62632 & 1 &  8.857520e-51\\\\\n",
       "\tslowdrift & 484.91709 & 1 & 1.818892e-107\\\\\n",
       "\\end{tabular}\n"
      ],
      "text/markdown": [
       "\n",
       "A anova: 4 × 3\n",
       "\n",
       "| <!--/--> | Chisq &lt;dbl&gt; | Df &lt;dbl&gt; | Pr(&gt;Chisq) &lt;dbl&gt; |\n",
       "|---|---|---|---|\n",
       "| evidence | 321.07301 | 1 |  8.456242e-72 |\n",
       "| prev_evidence |  37.54369 | 1 |  8.938796e-10 |\n",
       "| prev_resp | 224.62632 | 1 |  8.857520e-51 |\n",
       "| slowdrift | 484.91709 | 1 | 1.818892e-107 |\n",
       "\n"
      ],
      "text/plain": [
       "              Chisq     Df Pr(>Chisq)   \n",
       "evidence      321.07301 1   8.456242e-72\n",
       "prev_evidence  37.54369 1   8.938796e-10\n",
       "prev_resp     224.62632 1   8.857520e-51\n",
       "slowdrift     484.91709 1  1.818892e-107"
      ]
     },
     "metadata": {},
     "output_type": "display_data"
    },
    {
     "data": {
      "image/png": "[encoded data removed]",
      "text/plain": [
       "plot without title"
      ]
     },
     "metadata": {
      "image/png": {
       "height": 420,
       "width": 420
      }
     },
     "output_type": "display_data"
    },
    {
     "data": {
      "image/png": "[encoded data removed]",
      "text/plain": [
       "plot without title"
      ]
     },
     "metadata": {
      "image/png": {
       "height": 420,
       "width": 420
      }
     },
     "output_type": "display_data"
    },
    {
     "data": {
      "image/png": "[encoded data removed]",
      "text/plain": [
       "plot without title"
      ]
     },
     "metadata": {
      "image/png": {
       "height": 420,
       "width": 420
      }
     },
     "output_type": "display_data"
    },
    {
     "data": {
      "text/html": [
       "<table class=\"dataframe\">\n",
       "<caption>A anova: 5 × 8</caption>\n",
       "<thead>\n",
       "\t<tr><th></th><th scope=col>npar</th><th scope=col>AIC</th><th scope=col>BIC</th><th scope=col>logLik</th><th scope=col>deviance</th><th scope=col>Chisq</th><th scope=col>Df</th><th scope=col>Pr(&gt;Chisq)</th></tr>\n",
       "\t<tr><th></th><th scope=col>&lt;dbl&gt;</th><th scope=col>&lt;dbl&gt;</th><th scope=col>&lt;dbl&gt;</th><th scope=col>&lt;dbl&gt;</th><th scope=col>&lt;dbl&gt;</th><th scope=col>&lt;dbl&gt;</th><th scope=col>&lt;dbl&gt;</th><th scope=col>&lt;dbl&gt;</th></tr>\n",
       "</thead>\n",
       "<tbody>\n",
       "\t<tr><th scope=row>m_AR0</th><td> 5</td><td>40940.65</td><td>40983.51</td><td>-20465.32</td><td>40930.65</td><td>       NA</td><td>NA</td><td>           NA</td></tr>\n",
       "\t<tr><th scope=row>m_AR1</th><td> 7</td><td>39961.62</td><td>40021.63</td><td>-19973.81</td><td>39947.62</td><td> 983.0271</td><td> 2</td><td>3.454444e-214</td></tr>\n",
       "\t<tr><th scope=row>m_AR2</th><td>10</td><td>39728.99</td><td>39814.72</td><td>-19854.50</td><td>39708.99</td><td> 238.6265</td><td> 3</td><td> 1.885908e-51</td></tr>\n",
       "\t<tr><th scope=row>m_AR3</th><td>14</td><td>39550.14</td><td>39670.16</td><td>-19761.07</td><td>39522.14</td><td> 186.8502</td><td> 4</td><td> 2.518093e-39</td></tr>\n",
       "\t<tr><th scope=row>m_AR5</th><td>20</td><td>31091.58</td><td>31263.04</td><td>-15525.79</td><td>31051.58</td><td>8470.5605</td><td> 6</td><td> 0.000000e+00</td></tr>\n",
       "</tbody>\n",
       "</table>\n"
      ],
      "text/latex": [
       "A anova: 5 × 8\n",
       "\\begin{tabular}{r|llllllll}\n",
       "  & npar & AIC & BIC & logLik & deviance & Chisq & Df & Pr(>Chisq)\\\\\n",
       "  & <dbl> & <dbl> & <dbl> & <dbl> & <dbl> & <dbl> & <dbl> & <dbl>\\\\\n",
       "\\hline\n",
       "\tm\\_AR0 &  5 & 40940.65 & 40983.51 & -20465.32 & 40930.65 &        NA & NA &            NA\\\\\n",
       "\tm\\_AR1 &  7 & 39961.62 & 40021.63 & -19973.81 & 39947.62 &  983.0271 &  2 & 3.454444e-214\\\\\n",
       "\tm\\_AR2 & 10 & 39728.99 & 39814.72 & -19854.50 & 39708.99 &  238.6265 &  3 &  1.885908e-51\\\\\n",
       "\tm\\_AR3 & 14 & 39550.14 & 39670.16 & -19761.07 & 39522.14 &  186.8502 &  4 &  2.518093e-39\\\\\n",
       "\tm\\_AR5 & 20 & 31091.58 & 31263.04 & -15525.79 & 31051.58 & 8470.5605 &  6 &  0.000000e+00\\\\\n",
       "\\end{tabular}\n"
      ],
      "text/markdown": [
       "\n",
       "A anova: 5 × 8\n",
       "\n",
       "| <!--/--> | npar &lt;dbl&gt; | AIC &lt;dbl&gt; | BIC &lt;dbl&gt; | logLik &lt;dbl&gt; | deviance &lt;dbl&gt; | Chisq &lt;dbl&gt; | Df &lt;dbl&gt; | Pr(&gt;Chisq) &lt;dbl&gt; |\n",
       "|---|---|---|---|---|---|---|---|---|\n",
       "| m_AR0 |  5 | 40940.65 | 40983.51 | -20465.32 | 40930.65 |        NA | NA |            NA |\n",
       "| m_AR1 |  7 | 39961.62 | 40021.63 | -19973.81 | 39947.62 |  983.0271 |  2 | 3.454444e-214 |\n",
       "| m_AR2 | 10 | 39728.99 | 39814.72 | -19854.50 | 39708.99 |  238.6265 |  3 |  1.885908e-51 |\n",
       "| m_AR3 | 14 | 39550.14 | 39670.16 | -19761.07 | 39522.14 |  186.8502 |  4 |  2.518093e-39 |\n",
       "| m_AR5 | 20 | 31091.58 | 31263.04 | -15525.79 | 31051.58 | 8470.5605 |  6 |  0.000000e+00 |\n",
       "\n"
      ],
      "text/plain": [
       "      npar AIC      BIC      logLik    deviance Chisq     Df Pr(>Chisq)   \n",
       "m_AR0  5   40940.65 40983.51 -20465.32 40930.65        NA NA            NA\n",
       "m_AR1  7   39961.62 40021.63 -19973.81 39947.62  983.0271  2 3.454444e-214\n",
       "m_AR2 10   39728.99 39814.72 -19854.50 39708.99  238.6265  3  1.885908e-51\n",
       "m_AR3 14   39550.14 39670.16 -19761.07 39522.14  186.8502  4  2.518093e-39\n",
       "m_AR5 20   31091.58 31263.04 -15525.79 31051.58 8470.5605  6  0.000000e+00"
      ]
     },
     "metadata": {},
     "output_type": "display_data"
    },
    {
     "data": {
      "image/png": "[encoded data removed]",
      "text/plain": [
       "plot without title"
      ]
     },
     "metadata": {
      "image/png": {
       "height": 420,
       "width": 420
      }
     },
     "output_type": "display_data"
    }
   ],
   "source": [
    "## Model 5 w slow drifts ####\n",
    "\n",
    "m_AR5 <- glmer(data=data, resp ~ \n",
    "                 evidence +\n",
    "                 prev_evidence + \n",
    "                 prev_resp +\n",
    "                 + slowdrift +\n",
    "                 (1 + evidence + prev_evidence + prev_resp + slowdrift|subj),\n",
    "               family = binomial,control=glmerControl(optimizer='bobyqa',optCtrl = list(maxfun=100000)))\n",
    "\n",
    "#anova(m_AR3, m_AR5)\n",
    "vif(m_AR5)\n",
    "summary(m_AR5)\n",
    "Anova(m_AR5)\n",
    "plot(effect(c('prev_evidence'), m_AR5))\n",
    "plot(effect(c('prev_resp'), m_AR5))\n",
    "plot(effect(c('evidence'), m_AR5))\n",
    "plot(effect(c('slowdrift'), m_AR5))\n",
    "\n",
    "anova(m_AR0, m_AR1, m_AR2, m_AR3, m_AR5)"
   ]
  }
 ],
 "metadata": {
  "kernelspec": {
   "display_name": "R",
   "language": "R",
   "name": "ir"
  },
  "language_info": {
   "codemirror_mode": "r",
   "file_extension": ".r",
   "mimetype": "text/x-r-source",
   "name": "R",
   "pygments_lexer": "r",
   "version": "4.3.1"
  }
 },
 "nbformat": 4,
 "nbformat_minor": 2
}
